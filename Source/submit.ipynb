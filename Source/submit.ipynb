{
 "cells": [
  {
   "cell_type": "markdown",
   "metadata": {},
   "source": [
    "### Nhóm 1\n",
    "\n",
    "Thành viên:\n",
    "\n",
    "1. Bàng Mỹ Linh - 23122009\n",
    "\n",
    "2. Huỳnh Trung Kiệt - 23122039\n",
    "   \n",
    "3. Đào Sỹ Duy Minh - 23122041\n",
    "   \n",
    "4. Nguyễn Lâm Phú Quý - 23122048"
   ]
  },
  {
   "cell_type": "code",
   "execution_count": 3,
   "metadata": {},
   "outputs": [],
   "source": [
    "from naive_bayes_classifiers import *\n",
    "from process_data import *\n",
    "import pandas as pd"
   ]
  },
  {
   "cell_type": "markdown",
   "metadata": {},
   "source": [
    "#### Loading dataset"
   ]
  },
  {
   "cell_type": "code",
   "execution_count": null,
   "metadata": {},
   "outputs": [],
   "source": [
    "train_data = pd.read_csv(\"data/train.csv\")\n",
    "val_data = pd.read_csv(\"data/val.csv\")\n",
    "train_data.head()"
   ]
  },
  {
   "cell_type": "markdown",
   "metadata": {},
   "source": [
    "#### Process data"
   ]
  },
  {
   "cell_type": "code",
   "execution_count": null,
   "metadata": {},
   "outputs": [],
   "source": [
    "describe_data(train_data)\n",
    "X_train, y_train = process_data(train_data, is_train=True, method=\"bow\")"
   ]
  },
  {
   "cell_type": "code",
   "execution_count": null,
   "metadata": {},
   "outputs": [],
   "source": [
    "describe_data(val_data)\n",
    "X_val, y_val = process_data(val_data, is_train=False, method=\"bow\")"
   ]
  },
  {
   "cell_type": "markdown",
   "metadata": {},
   "source": [
    "#### Training Multinomial Naive Bayes"
   ]
  },
  {
   "cell_type": "code",
   "execution_count": 8,
   "metadata": {},
   "outputs": [],
   "source": [
    "nbc = NaiveBayes()\n",
    "nbc.fit(X_train, y_train)\n",
    "y_pred_train = nbc.predict(X_train)\n",
    "y_pred_val = nbc.predict(X_val)"
   ]
  },
  {
   "cell_type": "code",
   "execution_count": null,
   "metadata": {},
   "outputs": [],
   "source": [
    "metrics = [\"accuracy\", \"precision\", \"recall\", \"f1_score\"]\n",
    "print(\"Train dataset evaluation:\")\n",
    "result = nbc.evaluate(y_train, y_pred_train)\n",
    "\n",
    "for metric in metrics:\n",
    "    print(f\"{metric}: {result[metric]:.6f}\")\n",
    "\n",
    "print(\"\\nVal dataset evaluation:\")\n",
    "result = nbc.evaluate(y_val, y_pred_val)\n",
    "for metric in metrics:\n",
    "    print(f\"{metric}: {result[metric]:.6f}\")"
   ]
  },
  {
   "cell_type": "markdown",
   "metadata": {},
   "source": [
    "#### Appyling"
   ]
  },
  {
   "cell_type": "markdown",
   "metadata": {},
   "source": [
    "##### Function 1: Phân loại email tự tạo thủ công\n",
    "Nhãn mặc định là 0 (ham) vì đề không yêu cầu nhập nhãn cụ thể, nhãn này không ảnh hưởng gì đến kết quả phân loại."
   ]
  },
  {
   "cell_type": "code",
   "execution_count": null,
   "metadata": {},
   "outputs": [],
   "source": [
    "print(\"Nhập phần subject của mail: \")\n",
    "subject = input()\n",
    "print(\"Nhập phần message của mail: \")\n",
    "message = input()\n",
    "mail = pd.DataFrame({\"Subject\": [subject], \"Message\": [message], \"Spam/Ham\": [0]})\n",
    "\n",
    "processed_mail, dummy_y = process_data(mail, is_train=False, method=\"bow\")\n",
    "y_pred = nbc.predict(processed_mail)\n",
    "label = {0: \"Ham\", 1: \"Spam\"}\n",
    "\n",
    "print(\"-------------------------------------------\\n\")\n",
    "print(\"Kết quả phân loại: \", label[y_pred[0]])"
   ]
  },
  {
   "cell_type": "markdown",
   "metadata": {},
   "source": [
    "##### Function 2: Phân loại mail cho file .csv bất kỳ có định dạng giống file val.csv"
   ]
  },
  {
   "cell_type": "code",
   "execution_count": null,
   "metadata": {},
   "outputs": [],
   "source": [
    "file_path = \"\" # thêm đường dẫn đến file csv vào đây\n",
    "emails = pd.read_csv(file_path)\n",
    "X_test, y_test = process_data(emails, is_train=False, method=\"bow\")\n",
    "y_pred = nbc.predict(X_test)\n",
    "result = nbc.evaluate(y_test, y_pred)\n",
    "\n",
    "print(\"-------------------------------------------\\n\")\n",
    "print(\"Kết quả phân loại trên file: \", file_path)\n",
    "for metric in result.keys():\n",
    "    print(f\"{metric}: {result[metric]:.6f}\")"
   ]
  }
 ],
 "metadata": {
  "kernelspec": {
   "display_name": "base",
   "language": "python",
   "name": "python3"
  },
  "language_info": {
   "codemirror_mode": {
    "name": "ipython",
    "version": 3
   },
   "file_extension": ".py",
   "mimetype": "text/x-python",
   "name": "python",
   "nbconvert_exporter": "python",
   "pygments_lexer": "ipython3",
   "version": "3.12.7"
  }
 },
 "nbformat": 4,
 "nbformat_minor": 2
}
